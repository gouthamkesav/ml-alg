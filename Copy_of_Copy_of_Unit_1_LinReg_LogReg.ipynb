{
  "nbformat": 4,
  "nbformat_minor": 0,
  "metadata": {
    "colab": {
      "name": "Copy of Copy of Unit_1_LinReg_LogReg.ipynb",
      "provenance": [],
      "collapsed_sections": [],
      "include_colab_link": true
    },
    "kernelspec": {
      "name": "python3",
      "display_name": "Python 3"
    },
    "language_info": {
      "name": "python"
    }
  },
  "cells": [
    {
      "cell_type": "markdown",
      "metadata": {
        "id": "view-in-github",
        "colab_type": "text"
      },
      "source": [
        "<a href=\"https://colab.research.google.com/github/gouthamkesav/ml-alg/blob/main/Copy_of_Copy_of_Unit_1_LinReg_LogReg.ipynb\" target=\"_parent\"><img src=\"https://colab.research.google.com/assets/colab-badge.svg\" alt=\"Open In Colab\"/></a>"
      ]
    },
    {
      "cell_type": "markdown",
      "source": [
        "###Linear Regression \n"
      ],
      "metadata": {
        "id": "oUC5JNte0WFh"
      }
    },
    {
      "cell_type": "code",
      "source": [
        "#Import the required libraries\n",
        "import numpy as np\n",
        "import matplotlib.pyplot as plt"
      ],
      "metadata": {
        "id": "rj7YiI0e3Day"
      },
      "execution_count": null,
      "outputs": []
    },
    {
      "cell_type": "code",
      "source": [
        "# Give sample input data and its associated ground truth\n",
        "x = np.array([0, 1, 2, 3, 4, 5, 6, 7, 8, 9])\n",
        "y = np.array([1, 3, 2, 5, 7, 8, 8, 9, 10, 12])"
      ],
      "metadata": {
        "id": "ja1HTMauvq5q"
      },
      "execution_count": null,
      "outputs": []
    },
    {
      "cell_type": "code",
      "source": [
        "#Plot the given data for visualization\n",
        "plt.scatter(x,y)\n",
        "plt.title('Distribution of Data')\n",
        "plt.xlabel('x')\n",
        "plt.ylabel('y')\n",
        "plt.show()\n"
      ],
      "metadata": {
        "id": "2xyiGxPevspa"
      },
      "execution_count": null,
      "outputs": []
    },
    {
      "cell_type": "code",
      "source": [
        "#Size of the input data\n",
        "n = np.size(x)\n",
        "print(n)"
      ],
      "metadata": {
        "id": "k2jIcC-t2aP4",
        "colab": {
          "base_uri": "https://localhost:8080/"
        },
        "outputId": "065ad1e1-ee2c-4564-878d-de9e1bb2d209"
      },
      "execution_count": null,
      "outputs": [
        {
          "output_type": "stream",
          "name": "stdout",
          "text": [
            "10\n"
          ]
        }
      ]
    },
    {
      "cell_type": "code",
      "source": [
        "#Compute the mean of input and output \n",
        "x_mean = np.mean(x)\n",
        "y_mean = np.mean(y)\n",
        "print(x_mean,y_mean)"
      ],
      "metadata": {
        "id": "PSGnN3vJDMZv"
      },
      "execution_count": null,
      "outputs": []
    },
    {
      "cell_type": "code",
      "source": [
        "#Compute the numerator for finding the slope\n",
        "num = np.array([])\n",
        "for i in range(n):\n",
        "  diff = np.multiply((x[i]-x_mean),(y[i]-y_mean))\n",
        "  num = np.append(num,diff)\n",
        "print('The individual product of difference in datapoints are:\\n',num)\n",
        "num = np.sum(num)\n",
        "print('The sum of product of differences are:\\n',num)"
      ],
      "metadata": {
        "id": "gcxJRWd32ePZ"
      },
      "execution_count": null,
      "outputs": []
    },
    {
      "cell_type": "code",
      "source": [
        "#Compute the denominator for finding the slope\n",
        "den = np.array([])\n",
        "for i in range(n):\n",
        "  sq_diff = np.square((x[i]-x_mean))\n",
        "  den = np.append(den,sq_diff)\n",
        "print('The individual square of differences of datapoints are:\\n',den)\n",
        "den = np.sum(den)\n",
        "print('The sum of squared differences are:\\n',den)"
      ],
      "metadata": {
        "id": "1FRtKAmh2nz1"
      },
      "execution_count": null,
      "outputs": []
    },
    {
      "cell_type": "code",
      "source": [
        "#Slope computation\n",
        "beta_1 = num/den\n",
        "print('The value of slope is:',beta_1)"
      ],
      "metadata": {
        "id": "NTRKZbRYDqeG"
      },
      "execution_count": null,
      "outputs": []
    },
    {
      "cell_type": "code",
      "source": [
        "#Intercept computation\n",
        "beta_0 = y_mean - (beta_1*x_mean)\n",
        "print('The value of intercept is:\\n',beta_0)"
      ],
      "metadata": {
        "id": "-jIag-ePNIyT"
      },
      "execution_count": null,
      "outputs": []
    },
    {
      "cell_type": "code",
      "source": [
        "#Get the values of estimated model parameters\n",
        "print(\"The Estimated coefficients are:\\n beta_0 = {}\\n beta_1 = {}\".format(beta_0, beta_1))"
      ],
      "metadata": {
        "id": "AzNoMv_bxUIx"
      },
      "execution_count": null,
      "outputs": []
    },
    {
      "cell_type": "code",
      "source": [
        "#Linear Regression Fit/Model \n",
        "y_pred = beta_0 + (beta_1 * x)\n",
        "print(y_pred)"
      ],
      "metadata": {
        "id": "VXzIYTm6x9Dj"
      },
      "execution_count": null,
      "outputs": []
    },
    {
      "cell_type": "code",
      "source": [
        "#Plot the regression line \n",
        "plt.scatter(x,y, marker = \"x\", color = \"r\")\n",
        "plt.plot(x,y_pred, color = \"g\")\n",
        "plt.title('Distribution of Data')\n",
        "plt.xlabel('x')\n",
        "plt.ylabel('y')\n",
        "plt.show()\n"
      ],
      "metadata": {
        "id": "QY1d4LzyyOEZ"
      },
      "execution_count": null,
      "outputs": []
    },
    {
      "cell_type": "code",
      "source": [
        "#Give a sample input value for prediction\n",
        "#y_pred = beta_0 + (beta_1 * x)\n",
        "y_pred = beta_0 + (beta_1 * 0.5)\n",
        "print(y_pred)"
      ],
      "metadata": {
        "id": "K1NcC6Y-HTCS"
      },
      "execution_count": null,
      "outputs": []
    },
    {
      "cell_type": "markdown",
      "source": [
        "Linear Regression with Dataset split"
      ],
      "metadata": {
        "id": "k9iEVLS_RDoR"
      }
    },
    {
      "cell_type": "code",
      "source": [
        "#import all the required libraries\n",
        "import numpy as np\n",
        "import matplotlib.pyplot as plt\n",
        "from sklearn.linear_model import LinearRegression \n",
        "from sklearn.model_selection import train_test_split\n",
        "from sklearn.metrics import mean_squared_error, r2_score\n",
        "\n"
      ],
      "metadata": {
        "id": "zueLL7FI4Qxz"
      },
      "execution_count": null,
      "outputs": []
    },
    {
      "cell_type": "code",
      "source": [
        "# Give input data and its associated ground truth\n",
        "x = np.array([0, 1, 2, 3, 4, 5, 6, 7, 8, 9])\n",
        "y = np.array([1, 3, 2, 5, 7, 8, 8, 9, 10, 12])\n",
        "print(x, type(x), np.shape(x)) # 1D array\n",
        "print(y, type(y), np.shape(y))"
      ],
      "metadata": {
        "id": "A6nMnHZJ6vDz",
        "colab": {
          "base_uri": "https://localhost:8080/"
        },
        "outputId": "76d0e1bd-8c88-47cf-cb00-40ba84c398e8"
      },
      "execution_count": null,
      "outputs": [
        {
          "output_type": "stream",
          "name": "stdout",
          "text": [
            "[0 1 2 3 4 5 6 7 8 9] <class 'numpy.ndarray'> (10,)\n",
            "[ 1  3  2  5  7  8  8  9 10 12] <class 'numpy.ndarray'> (10,)\n"
          ]
        }
      ]
    },
    {
      "cell_type": "code",
      "source": [
        "#Reshape into a 2D array\n",
        "x = np.array([0, 1, 2, 3, 4, 5, 6, 7, 8, 9]).reshape(-1,1)\n",
        "y = np.array([1, 3, 2, 5, 7, 8, 8, 9, 10, 12]).reshape(-1,1)\n",
        "print(x, np.shape(x))\n",
        "print(y, np.shape(y))"
      ],
      "metadata": {
        "id": "wLt1d96vtAjc",
        "colab": {
          "base_uri": "https://localhost:8080/"
        },
        "outputId": "01366284-5717-49cf-93be-124d78c3d2f8"
      },
      "execution_count": null,
      "outputs": [
        {
          "output_type": "stream",
          "name": "stdout",
          "text": [
            "[[0]\n",
            " [1]\n",
            " [2]\n",
            " [3]\n",
            " [4]\n",
            " [5]\n",
            " [6]\n",
            " [7]\n",
            " [8]\n",
            " [9]] (10, 1)\n",
            "[[ 1]\n",
            " [ 3]\n",
            " [ 2]\n",
            " [ 5]\n",
            " [ 7]\n",
            " [ 8]\n",
            " [ 8]\n",
            " [ 9]\n",
            " [10]\n",
            " [12]] (10, 1)\n"
          ]
        }
      ]
    },
    {
      "cell_type": "code",
      "source": [
        "#Split the dataset into train and test set\n",
        "#x_train, x_test, y_train, y_test = train_test_split(x,y, train_size=0.5)\n",
        "x_train, x_test, y_train, y_test = train_test_split(x,y)\n",
        "print(x_train)\n",
        "print(x_test)\n",
        "print(y_train)\n",
        "print(y_test)"
      ],
      "metadata": {
        "id": "3UG7uMbN7ICy",
        "colab": {
          "base_uri": "https://localhost:8080/"
        },
        "outputId": "659a354b-2b31-4a72-ca03-93ca118ed3a0"
      },
      "execution_count": null,
      "outputs": [
        {
          "output_type": "stream",
          "name": "stdout",
          "text": [
            "[[4]\n",
            " [1]\n",
            " [2]\n",
            " [8]\n",
            " [9]\n",
            " [0]\n",
            " [3]]\n",
            "[[6]\n",
            " [5]\n",
            " [7]]\n",
            "[[ 7]\n",
            " [ 3]\n",
            " [ 2]\n",
            " [10]\n",
            " [12]\n",
            " [ 1]\n",
            " [ 5]]\n",
            "[[8]\n",
            " [8]\n",
            " [9]]\n"
          ]
        }
      ]
    },
    {
      "cell_type": "code",
      "source": [
        "model = LinearRegression()"
      ],
      "metadata": {
        "id": "RFaz3bNT42q-"
      },
      "execution_count": null,
      "outputs": []
    },
    {
      "cell_type": "code",
      "source": [
        "#Fit the model with training data\n",
        "model.fit(x_train,y_train)"
      ],
      "metadata": {
        "colab": {
          "base_uri": "https://localhost:8080/"
        },
        "id": "w_QduOzj4bAD",
        "outputId": "1f09d9a4-99ab-4b0b-cf39-1f0a19032d75"
      },
      "execution_count": null,
      "outputs": [
        {
          "output_type": "execute_result",
          "data": {
            "text/plain": [
              "LinearRegression()"
            ]
          },
          "metadata": {},
          "execution_count": 6
        }
      ]
    },
    {
      "cell_type": "code",
      "source": [
        "#Obtain the model parameters\n",
        "beta_1 = model.coef_\n",
        "beta_0 = model.intercept_\n",
        "print('The linear regression model parameters are:\\n Slope: {}\\n Intercept:{}'.format(beta_1,beta_0))"
      ],
      "metadata": {
        "id": "SfKZl2Kv_KU1",
        "colab": {
          "base_uri": "https://localhost:8080/"
        },
        "outputId": "4602ea90-3e19-4c4c-916e-55d3fea0791f"
      },
      "execution_count": null,
      "outputs": [
        {
          "output_type": "stream",
          "name": "stdout",
          "text": [
            "The linear regression model parameters are:\n",
            " Slope: [[1.18145161]]\n",
            " Intercept:[1.15725806]\n"
          ]
        }
      ]
    },
    {
      "cell_type": "code",
      "source": [
        "#Make predictions with test data\n",
        "y_pred = model.predict(x_test)\n",
        "#print(y_pred,y_test)"
      ],
      "metadata": {
        "id": "4l9692TN-yJm"
      },
      "execution_count": null,
      "outputs": []
    },
    {
      "cell_type": "code",
      "source": [
        "#Print the values of performance metrics\n",
        "print('The Mean Squared error is ',mean_squared_error(y_test,y_pred))\n",
        "print('The coefficient of determination is ',r2_score(y_test,y_pred))"
      ],
      "metadata": {
        "id": "TQrN99piCNdt",
        "colab": {
          "base_uri": "https://localhost:8080/"
        },
        "outputId": "aa73eb19-61a0-423c-cf29-324e7696195e"
      },
      "execution_count": null,
      "outputs": [
        {
          "output_type": "stream",
          "name": "stdout",
          "text": [
            "The Mean Squared error is  0.372772502601457\n",
            "The coefficient of determination is  -0.6774762617065566\n"
          ]
        }
      ]
    },
    {
      "cell_type": "code",
      "source": [
        "#Visualize as a graph\n",
        "plt.scatter(x_train,y_train, color = 'r', marker = 'x')\n",
        "plt.scatter(x_test,y_test, color = \"g\", marker = \"o\")\n",
        "plt.plot(x,beta_0 + (beta_1*x))\n",
        "plt.scatter(x_test,y_pred, color = \"b\", marker = \"*\")\n",
        "plt.show()\n"
      ],
      "metadata": {
        "id": "nvb8KqdlCr-S",
        "colab": {
          "base_uri": "https://localhost:8080/",
          "height": 265
        },
        "outputId": "9745195d-276a-41c6-d607-f0cbd9c2d764"
      },
      "execution_count": null,
      "outputs": [
        {
          "output_type": "display_data",
          "data": {
            "image/png": "[encoded data removed]",
            "text/plain": [
              "<Figure size 432x288 with 1 Axes>"
            ]
          },
          "metadata": {
            "needs_background": "light"
          }
        }
      ]
    },
    {
      "cell_type": "code",
      "source": [
        "#Make a prediction with a sample input data\n",
        "model.predict([[0.5]])\n"
      ],
      "metadata": {
        "id": "xEIReINgEN5K",
        "colab": {
          "base_uri": "https://localhost:8080/"
        },
        "outputId": "36c46aaa-d894-4181-d7dd-790fe393ea00"
      },
      "execution_count": null,
      "outputs": [
        {
          "output_type": "execute_result",
          "data": {
            "text/plain": [
              "array([[1.74798387]])"
            ]
          },
          "metadata": {},
          "execution_count": 12
        }
      ]
    },
    {
      "cell_type": "markdown",
      "source": [
        "### Logistic Regression"
      ],
      "metadata": {
        "id": "iQj1-qf60c6x"
      }
    },
    {
      "cell_type": "code",
      "source": [
        "#Import the required libraries\n",
        "import numpy as np\n",
        "from matplotlib import pyplot as plt\n",
        "from sklearn.datasets import make_blobs\n",
        "from sklearn.linear_model import LogisticRegression\n",
        "from collections import Counter\n"
      ],
      "metadata": {
        "id": "nfgcjSRl1ZTr"
      },
      "execution_count": null,
      "outputs": []
    },
    {
      "cell_type": "code",
      "source": [
        "#Create dataset and plot it and see\n",
        "X, y = make_blobs(n_samples = 1000, centers = 2, random_state=1)\n",
        "#print(X)\n",
        "#print(y)\n",
        "pyplot.scatter(X[:,0],X[:,1])\n",
        "pyplot.show()"
      ],
      "metadata": {
        "id": "hk_ucSgV1kaD"
      },
      "execution_count": null,
      "outputs": []
    },
    {
      "cell_type": "code",
      "source": [
        "#print the shape of input and output\n",
        "print(X.shape, y.shape)"
      ],
      "metadata": {
        "id": "mfXl0U8V1qyD"
      },
      "execution_count": null,
      "outputs": []
    },
    {
      "cell_type": "code",
      "source": [
        "#count the number of occurrences of instances\n",
        "label = Counter(y)\n",
        "print(label)"
      ],
      "metadata": {
        "id": "F3Di0zZg1yCx"
      },
      "execution_count": null,
      "outputs": []
    },
    {
      "cell_type": "code",
      "source": [
        "#display some samples from dataset\n",
        "for i in range(10):\n",
        "\tprint(X[i], y[i])\n",
        "print(type(X))\n"
      ],
      "metadata": {
        "id": "D-aXMERp1_kZ"
      },
      "execution_count": null,
      "outputs": []
    },
    {
      "cell_type": "code",
      "source": [
        "#Split the input dataset as per class label\n",
        "x1=np.array([])\n",
        "x2=np.array([])\n",
        "for i in range(1000):\n",
        "  if y[i]==0:\n",
        "    x1 = np.append(x1, X[i])\n",
        "  else:\n",
        "    x2 = np.append(x2,X[i])\n",
        "print(x1,x2, type(x1),type(x2), np.shape(x1),np.shape(x2))\n"
      ],
      "metadata": {
        "id": "hMN8TZ5e5LdF"
      },
      "execution_count": null,
      "outputs": []
    },
    {
      "cell_type": "code",
      "source": [
        "#Reshape the dataset into 2D array\n",
        "x1 = x1.reshape(500,2)\n",
        "x2 = x2.reshape(500,2)\n",
        "print(x1)\n",
        "print(x2)\n",
        "print(x1.shape,x2.shape)"
      ],
      "metadata": {
        "id": "xpEEz6NHevPe"
      },
      "execution_count": null,
      "outputs": []
    },
    {
      "cell_type": "code",
      "source": [
        "#Plot the split dataset\n",
        "plt.scatter(x1[:,0],x1[:,1])\n",
        "plt.scatter(x2[:,0],x2[:,1])\n",
        "plt.legend(label)\n",
        "plt.xlabel(\"feature_1\")\n",
        "plt.ylabel(\"feature_2\")\n",
        "plt.show()"
      ],
      "metadata": {
        "id": "GIACsQIGRGjk"
      },
      "execution_count": null,
      "outputs": []
    },
    {
      "cell_type": "code",
      "source": [
        "model = LogisticRegression()"
      ],
      "metadata": {
        "id": "2d7Ip0JG-ZfL"
      },
      "execution_count": null,
      "outputs": []
    },
    {
      "cell_type": "code",
      "source": [
        "model.fit(X,y)"
      ],
      "metadata": {
        "colab": {
          "base_uri": "https://localhost:8080/"
        },
        "id": "YdcfyUY3-eGm",
        "outputId": "cd3b2975-a6b0-4b76-a35d-c9d268588c93"
      },
      "execution_count": null,
      "outputs": [
        {
          "output_type": "execute_result",
          "data": {
            "text/plain": [
              "LogisticRegression()"
            ]
          },
          "metadata": {},
          "execution_count": 420
        }
      ]
    },
    {
      "cell_type": "code",
      "source": [
        "#Test the model with a sample datapoint\n",
        "W=np.array([[-1.5,2]])\n",
        "print(W, type(W))\n"
      ],
      "metadata": {
        "id": "S-HXK-Tc-rhn"
      },
      "execution_count": null,
      "outputs": []
    },
    {
      "cell_type": "code",
      "source": [
        "pred=model.predict(W)"
      ],
      "metadata": {
        "id": "F0B9dVof_-YY"
      },
      "execution_count": null,
      "outputs": []
    },
    {
      "cell_type": "code",
      "source": [
        "print(pred)"
      ],
      "metadata": {
        "id": "YHb9bsNwAIoz"
      },
      "execution_count": null,
      "outputs": []
    },
    {
      "cell_type": "markdown",
      "source": [
        "Logistic Regression with Dataset Split"
      ],
      "metadata": {
        "id": "JYYhZG2BTNdz"
      }
    },
    {
      "cell_type": "code",
      "source": [
        "from sklearn.model_selection import train_test_split\n",
        "from sklearn import metrics "
      ],
      "metadata": {
        "id": "lZUvOf3j1kZT"
      },
      "execution_count": null,
      "outputs": []
    },
    {
      "cell_type": "code",
      "source": [
        "#x_train, x_test, y_train, y_test = train_test_split(x,y, train_size=0.5)\n",
        "x_train, x_test, y_train, y_test = train_test_split(X,y)\n",
        "print(x_train)\n",
        "print(x_test)\n",
        "print(y_train)\n",
        "print(y_test)"
      ],
      "metadata": {
        "id": "FNTSEd_q1SEN"
      },
      "execution_count": null,
      "outputs": []
    },
    {
      "cell_type": "code",
      "source": [
        "print(x_train.size, x_train.shape)\n",
        "print(x_test.size, x_test.shape)\n",
        "print(y_train.size, y_train.shape)\n",
        "print(y_test.size, y_test.shape)"
      ],
      "metadata": {
        "id": "xouJTe3i4Y-S"
      },
      "execution_count": null,
      "outputs": []
    },
    {
      "cell_type": "code",
      "source": [
        "model = LogisticRegression()"
      ],
      "metadata": {
        "id": "bu_eyNdx4Hnn"
      },
      "execution_count": null,
      "outputs": []
    },
    {
      "cell_type": "code",
      "source": [
        "model.fit(x_train,y_train)"
      ],
      "metadata": {
        "id": "MqfO2hsb4IuM"
      },
      "execution_count": null,
      "outputs": []
    },
    {
      "cell_type": "code",
      "source": [
        "y_pred = model.predict(x_test)"
      ],
      "metadata": {
        "id": "IP4YROF04SUL"
      },
      "execution_count": null,
      "outputs": []
    },
    {
      "cell_type": "code",
      "source": [
        "cnf_matrix = metrics.confusion_matrix(y_test,y_pred)\n",
        "print(cnf_matrix)"
      ],
      "metadata": {
        "id": "6PjJY34p5LWc"
      },
      "execution_count": null,
      "outputs": []
    },
    {
      "cell_type": "code",
      "source": [
        "import seaborn as sns"
      ],
      "metadata": {
        "id": "vWrfKYu997rE"
      },
      "execution_count": null,
      "outputs": []
    },
    {
      "cell_type": "code",
      "source": [
        "# create heatmap\n",
        "class_names=[0,1] # name  of classes\n",
        "sns.heatmap((cnf_matrix), annot=True, cmap = \"Reds\", fmt = 'g')\n",
        "plt.title('Confusion matrix')\n",
        "plt.ylabel('Actual label')\n",
        "plt.xlabel('Predicted label')"
      ],
      "metadata": {
        "id": "UAlJa6w5-HNj"
      },
      "execution_count": null,
      "outputs": []
    },
    {
      "cell_type": "code",
      "source": [
        "accuracy = metrics.accuracy_score(y_test,y_pred)\n",
        "print('The accuracy is ', accuracy)"
      ],
      "metadata": {
        "id": "YAXAYR4I5mTm"
      },
      "execution_count": null,
      "outputs": []
    },
    {
      "cell_type": "code",
      "source": [
        "precision = metrics.precision_score(y_test, y_pred)\n",
        "print('The precision is ', precision)"
      ],
      "metadata": {
        "id": "jN8Yy2ty6hFn"
      },
      "execution_count": null,
      "outputs": []
    },
    {
      "cell_type": "code",
      "source": [
        "recall = metrics.recall_score(y_test,y_pred)\n",
        "print('The Recall value is ', recall)"
      ],
      "metadata": {
        "id": "y7yXOki7-giR"
      },
      "execution_count": null,
      "outputs": []
    },
    {
      "cell_type": "code",
      "source": [
        "f1 = metrics.f1_score(y_test, y_pred)\n",
        "print('The F1 Score is ',f1)"
      ],
      "metadata": {
        "id": "vRaFtwaI6oV-"
      },
      "execution_count": null,
      "outputs": []
    },
    {
      "cell_type": "code",
      "source": [
        "y_pred_proba = model.predict_proba(x_test)[:,1]\n",
        "print(y_pred_proba)\n",
        "print(y_pred_proba.shape)"
      ],
      "metadata": {
        "id": "AI8wOMplN6Ko"
      },
      "execution_count": null,
      "outputs": []
    },
    {
      "cell_type": "code",
      "source": [
        "fpr, tpr, _ = metrics.roc_curve(y_test, y_pred_proba)\n",
        "auc = metrics.roc_auc_score(y_test, y_pred_proba)\n",
        "print(auc)\n",
        "plt.plot(fpr,tpr)\n",
        "plt.show()"
      ],
      "metadata": {
        "id": "VHdW20PaOLDD"
      },
      "execution_count": null,
      "outputs": []
    }
  ]
}